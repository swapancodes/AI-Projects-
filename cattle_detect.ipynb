{
 "cells": [
  {
   "cell_type": "code",
   "execution_count": 1,
   "id": "3b96a50b-c353-45b9-9e42-d88f4769d326",
   "metadata": {},
   "outputs": [],
   "source": [
    "import cv2\n",
    "import numpy as np\n",
    "cap=cv2.VideoCapture(r\"C:\\Users\\Administrator.DESKTOP-DE6KL43\\datasets\\cattle.avi\")\n",
    "r,frame = cap.read()\n",
    "x,y,w,h=154,333,165,230\n",
    "t=(x,y,w,h)\n",
    "roi=frame[y:y+h,x:x+w]\n",
    "hsv_roi=cv2.cvtColor(roi,cv2.COLOR_BGR2HSV)\n",
    "mask=cv2.inRange(hsv_roi,np.array((0.0,60.0,32.0)),np.array((180.0,255.0,255.0)))\n",
    "roi_hist=cv2.calcHist([hsv_roi],[0],mask,[180],[0,180])\n",
    "cv2.normalize(roi_hist,roi_hist,0,255,cv2.NORM_MINMAX)\n",
    "tr=(cv2.TERM_CRITERIA_EPS|cv2.TERM_CRITERIA_COUNT,10,1)\n",
    "\n",
    "while cap.isOpened():\n",
    "    r,frame = cap.read()\n",
    "    if r==True:\n",
    "       hsv_frame=cv2.cvtColor(frame,cv2.COLOR_BGR2HSV)\n",
    "       backpropagation=cv2.calcBackProject([hsv_frame],[0],roi_hist,[0,180],1)\n",
    "       r,tracking=cv2.meanShift(backpropagation,t,tr)\n",
    "       #r,tracking=cv2.CamShift(backpropagation,t,tr)\n",
    "       x,y,w,h=tracking\n",
    "       final=cv2.rectangle(frame,(x,y),(x+w,y+h),(255,0,0),4)\n",
    "       cv2.imshow('final',final)\n",
    "       k=cv2.waitKey(25)\n",
    "       if k==ord('s'):\n",
    "          break\n",
    "cap.release() \n",
    "cv2.destroyAllWindows()\n"
   ]
  },
  {
   "cell_type": "code",
   "execution_count": null,
   "id": "71e45d25-e38a-4ab8-adcb-c1e082dfd738",
   "metadata": {},
   "outputs": [],
   "source": []
  }
 ],
 "metadata": {
  "kernelspec": {
   "display_name": "Python 3 (ipykernel)",
   "language": "python",
   "name": "python3"
  },
  "language_info": {
   "codemirror_mode": {
    "name": "ipython",
    "version": 3
   },
   "file_extension": ".py",
   "mimetype": "text/x-python",
   "name": "python",
   "nbconvert_exporter": "python",
   "pygments_lexer": "ipython3",
   "version": "3.12.4"
  }
 },
 "nbformat": 4,
 "nbformat_minor": 5
}
